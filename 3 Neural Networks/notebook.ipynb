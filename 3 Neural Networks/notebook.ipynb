{
 "cells": [
  {
   "cell_type": "markdown",
   "metadata": {
    "vscode": {
     "languageId": "plaintext"
    }
   },
   "source": [
    "# Introduction to Neural Networks\n",
    "\n",
    "**Hello everyone!** \n",
    "\n",
    "Imagine you have lots of little helpers (called \"neurons\") who pass simple messages (numbers) to each other. Together, they can learn to solve problems—just like a team figuring out puzzles. This is what a **Neural Network** does!\n",
    "\n",
    "In this notebook, we will explore:\n",
    "1. What neurons are.\n",
    "2. How they connect into layers.\n",
    "3. How they learn through something called **gradient descent** and **backpropagation**.\n",
    "4. How to build a simple neural network in Python to recognise flower types (using the Iris dataset as an example).\n",
    "\n",
    "We will keep things as simple as possible."
   ]
  },
  {
   "cell_type": "markdown",
   "metadata": {},
   "source": [
    "### Neurons: The Little Helpers\n",
    "\n",
    "**Think of a neuron like a small box** that waits for numbers (information) to come in. \n",
    "It does a tiny calculation (like adding or multiplying) and then passes the result along to another neuron.\n",
    "\n",
    "- Each neuron has weights (like small switches) and a bias (a little push).\n",
    "- When numbers come in, they get multiplied by weights, added together, and then the bias is added. \n",
    "- The result might get squashed with a function (called the activation function), then sent to the next neuron.\n",
    "\n",
    "This is how one neuron works. A neural network has many such neurons, arranged in **layers**."
   ]
  },
  {
   "cell_type": "markdown",
   "metadata": {},
   "source": [
    "### Layers: Stacks of Neurons\n",
    "\n",
    "**A layer is a group of neurons** side-by-side, each doing its tiny calculation. \n",
    "- The first layer receives the original input (like a picture or some numbers about flowers).\n",
    "- The middle layers are called **hidden layers** (because we usually don't see what they do directly).\n",
    "- The final layer makes a **prediction**—like, \"This flower is setosa,\" or \"This flower is versicolor,\" etc.\n",
    "\n",
    "Sometimes, many layers in a network are called **deep** learning (because it's deep with lots of layers).\n"
   ]
  },
  {
   "cell_type": "markdown",
   "metadata": {},
   "source": [
    "# Gradient Descent and Backpropagation: How Neurons Learn\n",
    "\n",
    "**Gradient Descent**:\n",
    "- Imagine you are on a hill in the fog and want to get to the bottom (the best solution).\n",
    "- You can't see far, so you take small steps downhill (the direction where the ground slopes down the most).\n",
    "- Eventually, step by step, you get to the lowest point you can find.\n",
    "\n",
    "**Backpropagation**:\n",
    "- It's like checking how each little step affects the total error (like how far you are from the goal at the bottom).\n",
    "- If a neuron didn't do its job well, we adjust its weights and bias.\n",
    "- We do this backwards, layer by layer, so each neuron learns how to do better next time.\n",
    "\n",
    "This is repeated many times until the network is good at guessing or predicting."
   ]
  },
  {
   "cell_type": "code",
   "execution_count": 5,
   "metadata": {},
   "outputs": [
    {
     "name": "stdout",
     "output_type": "stream",
     "text": [
      "Libraries imported successfully!\n"
     ]
    }
   ],
   "source": [
    "# We will use a small flower dataset (the famous Iris dataset).\n",
    "# It has measurements of petals and sepals, and the type of flower (3 species).\n",
    "\n",
    "# numpy helps with math on big lists of numbers.\n",
    "import numpy as np #\n",
    "\n",
    "# pandas is for reading and handling data tables.\n",
    "import pandas as pd #\n",
    "\n",
    "# matplotlib and seaborn help us draw pictures of our data.\n",
    "import matplotlib.pyplot as plt\n",
    "import seaborn as sns\n",
    "\n",
    "# TensorFlow/Keras will build and train our neural network.\n",
    "# For our neural network, we'll use TensorFlow / Keras (a simple library for neural networks).\n",
    "from tensorflow import keras\n",
    "from tensorflow.keras import layers\n",
    "\n",
    "print(\"Libraries imported successfully!\")"
   ]
  },
  {
   "cell_type": "code",
   "execution_count": 6,
   "metadata": {},
   "outputs": [],
   "source": [
    "# Don't worry about this piece of code, it is to make sure that the dataset is installed correctly\n",
    "# If you get an error in the following cell, run this cell, restart the kernel and then run the following cell again\n",
    "import certifi\n",
    "import os\n",
    "\n",
    "os.environ[\"SSL_CERT_FILE\"] = certifi.where()"
   ]
  },
  {
   "cell_type": "code",
   "execution_count": 7,
   "metadata": {},
   "outputs": [
    {
     "name": "stdout",
     "output_type": "stream",
     "text": [
      "   sepal_length  sepal_width  petal_length  petal_width species\n",
      "0           5.1          3.5           1.4          0.2  setosa\n",
      "1           4.9          3.0           1.4          0.2  setosa\n",
      "2           4.7          3.2           1.3          0.2  setosa\n",
      "3           4.6          3.1           1.5          0.2  setosa\n",
      "4           5.0          3.6           1.4          0.2  setosa\n",
      "\n",
      "Dataset shape: (150, 5)\n",
      "\n",
      "Species distribution:\n",
      "species\n",
      "setosa        50\n",
      "versicolor    50\n",
      "virginica     50\n",
      "Name: count, dtype: int64\n"
     ]
    }
   ],
   "source": [
    "# Load Iris data directly from seaborn for simplicity\n",
    "iris_data = sns.load_dataset(\"iris\")\n",
    "\n",
    "# The Iris dataset has 150 flowers with columns: sepal_length, sepal_width, petal_length, petal_width, and species.\n",
    "# The species can be one of three types: setosa, versicolor, or virginica.\n",
    "\n",
    "# Let's see the first few rows\n",
    "print(iris_data.head())\n",
    "\n",
    "# Check how many rows and columns\n",
    "print(\"\\nDataset shape:\", iris_data.shape)\n",
    "\n",
    "# Check what species we have\n",
    "print(\"\\nSpecies distribution:\")\n",
    "print(iris_data[\"species\"].value_counts())"
   ]
  },
  {
   "cell_type": "code",
   "execution_count": 8,
   "metadata": {},
   "outputs": [
    {
     "name": "stdout",
     "output_type": "stream",
     "text": [
      "Encoded species (first few rows):\n",
      "   setosa  versicolor  virginica\n",
      "0    True       False      False\n",
      "1    True       False      False\n",
      "2    True       False      False\n",
      "3    True       False      False\n",
      "4    True       False      False\n"
     ]
    },
    {
     "data": {
      "text/plain": [
       "'\\nNeural networks want numbers. So we convert the species into columns of 0/1 (one-hot encoding).\\n\\nFor example, if a flower is setosa, it might be represented as [1, 0, 0].\\n'"
      ]
     },
     "execution_count": 8,
     "metadata": {},
     "output_type": "execute_result"
    }
   ],
   "source": [
    "# We need to separate the \"input\" (measurements) from the \"output\" (species).\n",
    "X = iris_data.drop(\"species\", axis=1)  # All columns except 'species'\n",
    "y = iris_data[\"species\"]  # Just the 'species' column\n",
    "\n",
    "# For the output (y), we need to turn the species names into numbers.\n",
    "# Keras can handle this with \"one-hot encoding\", but let's do it manually with pandas \"get_dummies\".\n",
    "y_encoded = pd.get_dummies(y)\n",
    "\n",
    "# Now, X contains the measurements (4 columns).\n",
    "# y_encoded contains something like:\n",
    "#   setosa  versicolor  virginica\n",
    "# 0    1        0         0\n",
    "# 1    1        0         0\n",
    "# ... and so on\n",
    "print(\"Encoded species (first few rows):\")\n",
    "print(y_encoded.head())\n",
    "\n",
    "\"\"\"\n",
    "Neural networks want numbers. So we convert the species into columns of 0/1 (one-hot encoding).\n",
    "\n",
    "For example, if a flower is setosa, it might be represented as [1, 0, 0].\n",
    "\"\"\""
   ]
  },
  {
   "cell_type": "code",
   "execution_count": 9,
   "metadata": {},
   "outputs": [
    {
     "name": "stdout",
     "output_type": "stream",
     "text": [
      "Training set size: (120, 4)\n",
      "Test set size: (30, 4)\n"
     ]
    }
   ],
   "source": [
    "from sklearn.model_selection import train_test_split\n",
    "\n",
    "# Split our data into training set (to learn) and test set (to check if it learned well).\n",
    "# We'll use 80% for training, 20% for testing.\n",
    "X_train, X_test, y_train, y_test = train_test_split(\n",
    "    X, y_encoded, test_size=0.2, random_state=42\n",
    ")\n",
    "\n",
    "print(\"Training set size:\", X_train.shape)\n",
    "print(\"Test set size:\", X_test.shape)"
   ]
  },
  {
   "cell_type": "code",
   "execution_count": 10,
   "metadata": {},
   "outputs": [
    {
     "name": "stdout",
     "output_type": "stream",
     "text": [
      "Neural network created and compiled!\n"
     ]
    },
    {
     "name": "stderr",
     "output_type": "stream",
     "text": [
      "/Users/scsoc/Library/Python/3.12/lib/python/site-packages/keras/src/layers/core/dense.py:87: UserWarning: Do not pass an `input_shape`/`input_dim` argument to a layer. When using Sequential models, prefer using an `Input(shape)` object as the first layer in the model instead.\n",
      "  super().__init__(activity_regularizer=activity_regularizer, **kwargs)\n"
     ]
    },
    {
     "data": {
      "text/html": [
       "<pre style=\"white-space:pre;overflow-x:auto;line-height:normal;font-family:Menlo,'DejaVu Sans Mono',consolas,'Courier New',monospace\"><span style=\"font-weight: bold\">Model: \"sequential\"</span>\n",
       "</pre>\n"
      ],
      "text/plain": [
       "\u001b[1mModel: \"sequential\"\u001b[0m\n"
      ]
     },
     "metadata": {},
     "output_type": "display_data"
    },
    {
     "data": {
      "text/html": [
       "<pre style=\"white-space:pre;overflow-x:auto;line-height:normal;font-family:Menlo,'DejaVu Sans Mono',consolas,'Courier New',monospace\">┏━━━━━━━━━━━━━━━━━━━━━━━━━━━━━━━━━┳━━━━━━━━━━━━━━━━━━━━━━━━┳━━━━━━━━━━━━━━━┓\n",
       "┃<span style=\"font-weight: bold\"> Layer (type)                    </span>┃<span style=\"font-weight: bold\"> Output Shape           </span>┃<span style=\"font-weight: bold\">       Param # </span>┃\n",
       "┡━━━━━━━━━━━━━━━━━━━━━━━━━━━━━━━━━╇━━━━━━━━━━━━━━━━━━━━━━━━╇━━━━━━━━━━━━━━━┩\n",
       "│ dense (<span style=\"color: #0087ff; text-decoration-color: #0087ff\">Dense</span>)                   │ (<span style=\"color: #00d7ff; text-decoration-color: #00d7ff\">None</span>, <span style=\"color: #00af00; text-decoration-color: #00af00\">8</span>)              │            <span style=\"color: #00af00; text-decoration-color: #00af00\">40</span> │\n",
       "├─────────────────────────────────┼────────────────────────┼───────────────┤\n",
       "│ dense_1 (<span style=\"color: #0087ff; text-decoration-color: #0087ff\">Dense</span>)                 │ (<span style=\"color: #00d7ff; text-decoration-color: #00d7ff\">None</span>, <span style=\"color: #00af00; text-decoration-color: #00af00\">8</span>)              │            <span style=\"color: #00af00; text-decoration-color: #00af00\">72</span> │\n",
       "├─────────────────────────────────┼────────────────────────┼───────────────┤\n",
       "│ dense_2 (<span style=\"color: #0087ff; text-decoration-color: #0087ff\">Dense</span>)                 │ (<span style=\"color: #00d7ff; text-decoration-color: #00d7ff\">None</span>, <span style=\"color: #00af00; text-decoration-color: #00af00\">3</span>)              │            <span style=\"color: #00af00; text-decoration-color: #00af00\">27</span> │\n",
       "└─────────────────────────────────┴────────────────────────┴───────────────┘\n",
       "</pre>\n"
      ],
      "text/plain": [
       "┏━━━━━━━━━━━━━━━━━━━━━━━━━━━━━━━━━┳━━━━━━━━━━━━━━━━━━━━━━━━┳━━━━━━━━━━━━━━━┓\n",
       "┃\u001b[1m \u001b[0m\u001b[1mLayer (type)                   \u001b[0m\u001b[1m \u001b[0m┃\u001b[1m \u001b[0m\u001b[1mOutput Shape          \u001b[0m\u001b[1m \u001b[0m┃\u001b[1m \u001b[0m\u001b[1m      Param #\u001b[0m\u001b[1m \u001b[0m┃\n",
       "┡━━━━━━━━━━━━━━━━━━━━━━━━━━━━━━━━━╇━━━━━━━━━━━━━━━━━━━━━━━━╇━━━━━━━━━━━━━━━┩\n",
       "│ dense (\u001b[38;5;33mDense\u001b[0m)                   │ (\u001b[38;5;45mNone\u001b[0m, \u001b[38;5;34m8\u001b[0m)              │            \u001b[38;5;34m40\u001b[0m │\n",
       "├─────────────────────────────────┼────────────────────────┼───────────────┤\n",
       "│ dense_1 (\u001b[38;5;33mDense\u001b[0m)                 │ (\u001b[38;5;45mNone\u001b[0m, \u001b[38;5;34m8\u001b[0m)              │            \u001b[38;5;34m72\u001b[0m │\n",
       "├─────────────────────────────────┼────────────────────────┼───────────────┤\n",
       "│ dense_2 (\u001b[38;5;33mDense\u001b[0m)                 │ (\u001b[38;5;45mNone\u001b[0m, \u001b[38;5;34m3\u001b[0m)              │            \u001b[38;5;34m27\u001b[0m │\n",
       "└─────────────────────────────────┴────────────────────────┴───────────────┘\n"
      ]
     },
     "metadata": {},
     "output_type": "display_data"
    },
    {
     "data": {
      "text/html": [
       "<pre style=\"white-space:pre;overflow-x:auto;line-height:normal;font-family:Menlo,'DejaVu Sans Mono',consolas,'Courier New',monospace\"><span style=\"font-weight: bold\"> Total params: </span><span style=\"color: #00af00; text-decoration-color: #00af00\">139</span> (556.00 B)\n",
       "</pre>\n"
      ],
      "text/plain": [
       "\u001b[1m Total params: \u001b[0m\u001b[38;5;34m139\u001b[0m (556.00 B)\n"
      ]
     },
     "metadata": {},
     "output_type": "display_data"
    },
    {
     "data": {
      "text/html": [
       "<pre style=\"white-space:pre;overflow-x:auto;line-height:normal;font-family:Menlo,'DejaVu Sans Mono',consolas,'Courier New',monospace\"><span style=\"font-weight: bold\"> Trainable params: </span><span style=\"color: #00af00; text-decoration-color: #00af00\">139</span> (556.00 B)\n",
       "</pre>\n"
      ],
      "text/plain": [
       "\u001b[1m Trainable params: \u001b[0m\u001b[38;5;34m139\u001b[0m (556.00 B)\n"
      ]
     },
     "metadata": {},
     "output_type": "display_data"
    },
    {
     "data": {
      "text/html": [
       "<pre style=\"white-space:pre;overflow-x:auto;line-height:normal;font-family:Menlo,'DejaVu Sans Mono',consolas,'Courier New',monospace\"><span style=\"font-weight: bold\"> Non-trainable params: </span><span style=\"color: #00af00; text-decoration-color: #00af00\">0</span> (0.00 B)\n",
       "</pre>\n"
      ],
      "text/plain": [
       "\u001b[1m Non-trainable params: \u001b[0m\u001b[38;5;34m0\u001b[0m (0.00 B)\n"
      ]
     },
     "metadata": {},
     "output_type": "display_data"
    }
   ],
   "source": [
    "# We'll make a small network:\n",
    "# Input layer -> Hidden layer -> Output layer.\n",
    "\n",
    "model = keras.Sequential(\n",
    "    [\n",
    "        layers.Dense(\n",
    "            8, activation=\"relu\", input_shape=(4,)\n",
    "        ),  # 4 inputs (4 measurements), 8 neurons\n",
    "        layers.Dense(8, activation=\"relu\"),  # Another hidden layer with 8 neurons\n",
    "        layers.Dense(\n",
    "            3, activation=\"softmax\"\n",
    "        ),  # 3 outputs (setosa, versicolor, virginica)\n",
    "    ]\n",
    ")\n",
    "\n",
    "# Compile the model:\n",
    "# - loss='categorical_crossentropy' because we have more than two categories\n",
    "# - optimizer='adam' is a popular version of gradient descent\n",
    "# - metrics=['accuracy'] to track how many we get right\n",
    "model.compile(loss=\"categorical_crossentropy\", optimizer=\"adam\", metrics=[\"accuracy\"])\n",
    "\n",
    "print(\"Neural network created and compiled!\")\n",
    "model.summary()  # Let's see what our model looks like"
   ]
  },
  {
   "cell_type": "code",
   "execution_count": 11,
   "metadata": {},
   "outputs": [
    {
     "name": "stdout",
     "output_type": "stream",
     "text": [
      "Test accuracy: 0.9333333373069763\n"
     ]
    }
   ],
   "source": [
    "# Let's train for some epochs (think of 1 epoch as seeing all training data once).\n",
    "# We'll keep it small, e.g., 50 epochs, so it runs quickly.\n",
    "\n",
    "history = model.fit(\n",
    "    X_train,  # our inputs for training\n",
    "    y_train,  # our one-hot encoded output labels\n",
    "    epochs=50,  # how many times to see all data\n",
    "    batch_size=8,  # how many samples to process before updating weights\n",
    "    validation_split=0.2,  # split part of the training set for validation\n",
    "    verbose=0,  # set to 1 if you want to see the progress bar\n",
    ")\n",
    "\n",
    "# Let's look at final accuracy on the test data\n",
    "test_loss, test_acc = model.evaluate(X_test, y_test, verbose=0)\n",
    "print(\"Test accuracy:\", test_acc)"
   ]
  },
  {
   "cell_type": "code",
   "execution_count": 12,
   "metadata": {},
   "outputs": [
    {
     "data": {
      "image/png": "[encoded data removed]",
      "text/plain": [
       "<Figure size 800x500 with 1 Axes>"
      ]
     },
     "metadata": {},
     "output_type": "display_data"
    }
   ],
   "source": [
    "# Let's plot the training and validation accuracy over epochs.\n",
    "plt.figure(figsize=(8, 5))\n",
    "plt.plot(history.history[\"accuracy\"], label=\"Train Accuracy\")\n",
    "plt.plot(history.history[\"val_accuracy\"], label=\"Val Accuracy\")\n",
    "plt.title(\"Accuracy Over Epochs\")\n",
    "plt.xlabel(\"Epoch\")\n",
    "plt.ylabel(\"Accuracy\")\n",
    "plt.legend()\n",
    "plt.show()"
   ]
  },
  {
   "cell_type": "markdown",
   "metadata": {},
   "source": [
    "### Recap and Next Steps\n",
    "\n",
    "**Great job!** We've built a small neural network to classify flowers in the Iris dataset. \n",
    "We learned:\n",
    "- How neurons are like little helpers that perform small calculations.\n",
    "- How layers stack these neurons.\n",
    "- How networks learn by taking small steps down the \"hill\" (gradient descent).\n",
    "- How \"backpropagation\" helps each neuron fix its mistakes.\n",
    "\n",
    "**What next?**\n",
    "- Try adding more layers to see if accuracy changes.\n",
    "- Try changing the activation function to see what happens.\n",
    "- Use a different dataset (e.g., digits or something else)."
   ]
  },
  {
   "cell_type": "markdown",
   "metadata": {},
   "source": [
    "### Simple (Child-Like) Summary\n",
    "\n",
    "1. **Neuron**: A tiny friend who reads numbers, does a small sum, and sends out a number.\n",
    "2. **Layer**: A bunch of friends (neurons) side by side.\n",
    "3. **Network**: Lots of layers stacked to solve a problem together.\n",
    "4. **Gradient Descent**: Tiny steps to find the best path (like going downhill).\n",
    "5. **Backpropagation**: Checking who made mistakes and fixing them from the end back to the start.\n",
    "\n",
    "This is how a neural network learns!"
   ]
  },
  {
   "cell_type": "markdown",
   "metadata": {},
   "source": [
    "### Using Generative AI for Neural Network Experiments\n",
    "\n",
    "If you get stuck or want to **try different approaches**, you can use prompt engineering with a tool like ChatGPT. \n",
    "\n",
    "Example prompt:\n",
    "\"Please show me how to build a deeper neural network in Keras for the Iris dataset, with 3 hidden layers. Use 'relu' activation and show me how to evaluate with accuracy and confusion matrix. Provide code in a Jupyter Notebook format.\"\n",
    "\n",
    "By giving **specific instructions**, you often get detailed code you can copy, run, and learn from. Happy experimenting!"
   ]
  }
 ],
 "metadata": {
  "kernelspec": {
   "display_name": "Python 3",
   "language": "python",
   "name": "python3"
  },
  "language_info": {
   "codemirror_mode": {
    "name": "ipython",
    "version": 3
   },
   "file_extension": ".py",
   "mimetype": "text/x-python",
   "name": "python",
   "nbconvert_exporter": "python",
   "pygments_lexer": "ipython3",
   "version": "3.12.3"
  }
 },
 "nbformat": 4,
 "nbformat_minor": 2
}
