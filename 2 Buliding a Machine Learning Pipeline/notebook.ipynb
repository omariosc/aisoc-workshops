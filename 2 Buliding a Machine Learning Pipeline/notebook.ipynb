{
 "cells": [
  {
   "cell_type": "markdown",
   "metadata": {},
   "source": [
    "# Workshop 2: Building an ML Pipeline\n",
    "\n",
    "In this notebook, we will learn how we can build machine learning (ML) pipelines for various takes."
   ]
  }
 ],
 "metadata": {
  "language_info": {
   "name": "python"
  }
 },
 "nbformat": 4,
 "nbformat_minor": 2
}
